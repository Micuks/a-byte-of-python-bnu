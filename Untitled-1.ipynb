{
    "cells": [
        {
            "cell_type": "code",
            "execution_count": 1,
            "source": [
                "a = [99,'bottles of beer',['on','the','wall']]"
            ],
            "outputs": [],
            "metadata": {}
        },
        {
            "cell_type": "code",
            "execution_count": 2,
            "source": [
                "a+b,a*3"
            ],
            "outputs": [
                {
                    "output_type": "error",
                    "ename": "NameError",
                    "evalue": "name 'b' is not defined",
                    "traceback": [
                        "\u001b[0;31m---------------------------------------------------------------------------\u001b[0m",
                        "\u001b[0;31mNameError\u001b[0m                                 Traceback (most recent call last)",
                        "\u001b[0;32m/tmp/ipykernel_11496/3221352414.py\u001b[0m in \u001b[0;36m<module>\u001b[0;34m\u001b[0m\n\u001b[0;32m----> 1\u001b[0;31m \u001b[0ma\u001b[0m\u001b[0;34m+\u001b[0m\u001b[0mb\u001b[0m\u001b[0;34m,\u001b[0m\u001b[0ma\u001b[0m\u001b[0;34m*\u001b[0m\u001b[0;36m3\u001b[0m\u001b[0;34m\u001b[0m\u001b[0;34m\u001b[0m\u001b[0m\n\u001b[0m",
                        "\u001b[0;31mNameError\u001b[0m: name 'b' is not defined"
                    ]
                }
            ],
            "metadata": {}
        },
        {
            "cell_type": "code",
            "execution_count": 3,
            "source": [
                "a[0] = 9"
            ],
            "outputs": [],
            "metadata": {}
        },
        {
            "cell_type": "code",
            "execution_count": 4,
            "source": [
                "a[1:2] = ['bottles','of','beer']"
            ],
            "outputs": [],
            "metadata": {}
        },
        {
            "cell_type": "code",
            "execution_count": 5,
            "source": [
                "print(a)"
            ],
            "outputs": [
                {
                    "output_type": "stream",
                    "name": "stdout",
                    "text": [
                        "[9, 'bottles', 'of', 'beer', ['on', 'the', 'wall']]\n"
                    ]
                }
            ],
            "metadata": {}
        },
        {
            "cell_type": "code",
            "execution_count": 6,
            "source": [
                "del a[-1]"
            ],
            "outputs": [],
            "metadata": {}
        },
        {
            "cell_type": "code",
            "execution_count": 7,
            "source": [
                "print(a)"
            ],
            "outputs": [
                {
                    "output_type": "stream",
                    "name": "stdout",
                    "text": [
                        "[9, 'bottles', 'of', 'beer']\n"
                    ]
                }
            ],
            "metadata": {}
        },
        {
            "cell_type": "code",
            "execution_count": null,
            "source": [],
            "outputs": [],
            "metadata": {}
        },
        {
            "cell_type": "code",
            "execution_count": 8,
            "source": [
                "help(int)"
            ],
            "outputs": [
                {
                    "output_type": "stream",
                    "name": "stdout",
                    "text": [
                        "Help on class int in module builtins:\n",
                        "\n",
                        "class int(object)\n",
                        " |  int([x]) -> integer\n",
                        " |  int(x, base=10) -> integer\n",
                        " |  \n",
                        " |  Convert a number or string to an integer, or return 0 if no arguments\n",
                        " |  are given.  If x is a number, return x.__int__().  For floating point\n",
                        " |  numbers, this truncates towards zero.\n",
                        " |  \n",
                        " |  If x is not a number or if base is given, then x must be a string,\n",
                        " |  bytes, or bytearray instance representing an integer literal in the\n",
                        " |  given base.  The literal can be preceded by '+' or '-' and be surrounded\n",
                        " |  by whitespace.  The base defaults to 10.  Valid bases are 0 and 2-36.\n",
                        " |  Base 0 means to interpret the base from the string as an integer literal.\n",
                        " |  >>> int('0b100', base=0)\n",
                        " |  4\n",
                        " |  \n",
                        " |  Built-in subclasses:\n",
                        " |      bool\n",
                        " |  \n",
                        " |  Methods defined here:\n",
                        " |  \n",
                        " |  __abs__(self, /)\n",
                        " |      abs(self)\n",
                        " |  \n",
                        " |  __add__(self, value, /)\n",
                        " |      Return self+value.\n",
                        " |  \n",
                        " |  __and__(self, value, /)\n",
                        " |      Return self&value.\n",
                        " |  \n",
                        " |  __bool__(self, /)\n",
                        " |      self != 0\n",
                        " |  \n",
                        " |  __ceil__(...)\n",
                        " |      Ceiling of an Integral returns itself.\n",
                        " |  \n",
                        " |  __divmod__(self, value, /)\n",
                        " |      Return divmod(self, value).\n",
                        " |  \n",
                        " |  __eq__(self, value, /)\n",
                        " |      Return self==value.\n",
                        " |  \n",
                        " |  __float__(self, /)\n",
                        " |      float(self)\n",
                        " |  \n",
                        " |  __floor__(...)\n",
                        " |      Flooring an Integral returns itself.\n",
                        " |  \n",
                        " |  __floordiv__(self, value, /)\n",
                        " |      Return self//value.\n",
                        " |  \n",
                        " |  __format__(self, format_spec, /)\n",
                        " |      Default object formatter.\n",
                        " |  \n",
                        " |  __ge__(self, value, /)\n",
                        " |      Return self>=value.\n",
                        " |  \n",
                        " |  __getattribute__(self, name, /)\n",
                        " |      Return getattr(self, name).\n",
                        " |  \n",
                        " |  __getnewargs__(self, /)\n",
                        " |  \n",
                        " |  __gt__(self, value, /)\n",
                        " |      Return self>value.\n",
                        " |  \n",
                        " |  __hash__(self, /)\n",
                        " |      Return hash(self).\n",
                        " |  \n",
                        " |  __index__(self, /)\n",
                        " |      Return self converted to an integer, if self is suitable for use as an index into a list.\n",
                        " |  \n",
                        " |  __int__(self, /)\n",
                        " |      int(self)\n",
                        " |  \n",
                        " |  __invert__(self, /)\n",
                        " |      ~self\n",
                        " |  \n",
                        " |  __le__(self, value, /)\n",
                        " |      Return self<=value.\n",
                        " |  \n",
                        " |  __lshift__(self, value, /)\n",
                        " |      Return self<<value.\n",
                        " |  \n",
                        " |  __lt__(self, value, /)\n",
                        " |      Return self<value.\n",
                        " |  \n",
                        " |  __mod__(self, value, /)\n",
                        " |      Return self%value.\n",
                        " |  \n",
                        " |  __mul__(self, value, /)\n",
                        " |      Return self*value.\n",
                        " |  \n",
                        " |  __ne__(self, value, /)\n",
                        " |      Return self!=value.\n",
                        " |  \n",
                        " |  __neg__(self, /)\n",
                        " |      -self\n",
                        " |  \n",
                        " |  __or__(self, value, /)\n",
                        " |      Return self|value.\n",
                        " |  \n",
                        " |  __pos__(self, /)\n",
                        " |      +self\n",
                        " |  \n",
                        " |  __pow__(self, value, mod=None, /)\n",
                        " |      Return pow(self, value, mod).\n",
                        " |  \n",
                        " |  __radd__(self, value, /)\n",
                        " |      Return value+self.\n",
                        " |  \n",
                        " |  __rand__(self, value, /)\n",
                        " |      Return value&self.\n",
                        " |  \n",
                        " |  __rdivmod__(self, value, /)\n",
                        " |      Return divmod(value, self).\n",
                        " |  \n",
                        " |  __repr__(self, /)\n",
                        " |      Return repr(self).\n",
                        " |  \n",
                        " |  __rfloordiv__(self, value, /)\n",
                        " |      Return value//self.\n",
                        " |  \n",
                        " |  __rlshift__(self, value, /)\n",
                        " |      Return value<<self.\n",
                        " |  \n",
                        " |  __rmod__(self, value, /)\n",
                        " |      Return value%self.\n",
                        " |  \n",
                        " |  __rmul__(self, value, /)\n",
                        " |      Return value*self.\n",
                        " |  \n",
                        " |  __ror__(self, value, /)\n",
                        " |      Return value|self.\n",
                        " |  \n",
                        " |  __round__(...)\n",
                        " |      Rounding an Integral returns itself.\n",
                        " |      Rounding with an ndigits argument also returns an integer.\n",
                        " |  \n",
                        " |  __rpow__(self, value, mod=None, /)\n",
                        " |      Return pow(value, self, mod).\n",
                        " |  \n",
                        " |  __rrshift__(self, value, /)\n",
                        " |      Return value>>self.\n",
                        " |  \n",
                        " |  __rshift__(self, value, /)\n",
                        " |      Return self>>value.\n",
                        " |  \n",
                        " |  __rsub__(self, value, /)\n",
                        " |      Return value-self.\n",
                        " |  \n",
                        " |  __rtruediv__(self, value, /)\n",
                        " |      Return value/self.\n",
                        " |  \n",
                        " |  __rxor__(self, value, /)\n",
                        " |      Return value^self.\n",
                        " |  \n",
                        " |  __sizeof__(self, /)\n",
                        " |      Returns size in memory, in bytes.\n",
                        " |  \n",
                        " |  __sub__(self, value, /)\n",
                        " |      Return self-value.\n",
                        " |  \n",
                        " |  __truediv__(self, value, /)\n",
                        " |      Return self/value.\n",
                        " |  \n",
                        " |  __trunc__(...)\n",
                        " |      Truncating an Integral returns itself.\n",
                        " |  \n",
                        " |  __xor__(self, value, /)\n",
                        " |      Return self^value.\n",
                        " |  \n",
                        " |  as_integer_ratio(self, /)\n",
                        " |      Return integer ratio.\n",
                        " |      \n",
                        " |      Return a pair of integers, whose ratio is exactly equal to the original int\n",
                        " |      and with a positive denominator.\n",
                        " |      \n",
                        " |      >>> (10).as_integer_ratio()\n",
                        " |      (10, 1)\n",
                        " |      >>> (-10).as_integer_ratio()\n",
                        " |      (-10, 1)\n",
                        " |      >>> (0).as_integer_ratio()\n",
                        " |      (0, 1)\n",
                        " |  \n",
                        " |  bit_length(self, /)\n",
                        " |      Number of bits necessary to represent self in binary.\n",
                        " |      \n",
                        " |      >>> bin(37)\n",
                        " |      '0b100101'\n",
                        " |      >>> (37).bit_length()\n",
                        " |      6\n",
                        " |  \n",
                        " |  conjugate(...)\n",
                        " |      Returns self, the complex conjugate of any int.\n",
                        " |  \n",
                        " |  to_bytes(self, /, length, byteorder, *, signed=False)\n",
                        " |      Return an array of bytes representing an integer.\n",
                        " |      \n",
                        " |      length\n",
                        " |        Length of bytes object to use.  An OverflowError is raised if the\n",
                        " |        integer is not representable with the given number of bytes.\n",
                        " |      byteorder\n",
                        " |        The byte order used to represent the integer.  If byteorder is 'big',\n",
                        " |        the most significant byte is at the beginning of the byte array.  If\n",
                        " |        byteorder is 'little', the most significant byte is at the end of the\n",
                        " |        byte array.  To request the native byte order of the host system, use\n",
                        " |        `sys.byteorder' as the byte order value.\n",
                        " |      signed\n",
                        " |        Determines whether two's complement is used to represent the integer.\n",
                        " |        If signed is False and a negative integer is given, an OverflowError\n",
                        " |        is raised.\n",
                        " |  \n",
                        " |  ----------------------------------------------------------------------\n",
                        " |  Class methods defined here:\n",
                        " |  \n",
                        " |  from_bytes(bytes, byteorder, *, signed=False) from builtins.type\n",
                        " |      Return the integer represented by the given array of bytes.\n",
                        " |      \n",
                        " |      bytes\n",
                        " |        Holds the array of bytes to convert.  The argument must either\n",
                        " |        support the buffer protocol or be an iterable object producing bytes.\n",
                        " |        Bytes and bytearray are examples of built-in objects that support the\n",
                        " |        buffer protocol.\n",
                        " |      byteorder\n",
                        " |        The byte order used to represent the integer.  If byteorder is 'big',\n",
                        " |        the most significant byte is at the beginning of the byte array.  If\n",
                        " |        byteorder is 'little', the most significant byte is at the end of the\n",
                        " |        byte array.  To request the native byte order of the host system, use\n",
                        " |        `sys.byteorder' as the byte order value.\n",
                        " |      signed\n",
                        " |        Indicates whether two's complement is used to represent the integer.\n",
                        " |  \n",
                        " |  ----------------------------------------------------------------------\n",
                        " |  Static methods defined here:\n",
                        " |  \n",
                        " |  __new__(*args, **kwargs) from builtins.type\n",
                        " |      Create and return a new object.  See help(type) for accurate signature.\n",
                        " |  \n",
                        " |  ----------------------------------------------------------------------\n",
                        " |  Data descriptors defined here:\n",
                        " |  \n",
                        " |  denominator\n",
                        " |      the denominator of a rational number in lowest terms\n",
                        " |  \n",
                        " |  imag\n",
                        " |      the imaginary part of a complex number\n",
                        " |  \n",
                        " |  numerator\n",
                        " |      the numerator of a rational number in lowest terms\n",
                        " |  \n",
                        " |  real\n",
                        " |      the real part of a complex number\n",
                        "\n"
                    ]
                }
            ],
            "metadata": {}
        },
        {
            "cell_type": "code",
            "execution_count": null,
            "source": [],
            "outputs": [],
            "metadata": {}
        },
        {
            "cell_type": "code",
            "execution_count": 9,
            "source": [
                "shoplist = ['apple','mango','carrot','banana']"
            ],
            "outputs": [],
            "metadata": {}
        },
        {
            "cell_type": "code",
            "execution_count": 10,
            "source": [
                "pprint()"
            ],
            "outputs": [
                {
                    "output_type": "stream",
                    "name": "stdout",
                    "text": [
                        "Pretty printing has been turned OFF\n"
                    ]
                }
            ],
            "metadata": {}
        },
        {
            "cell_type": "code",
            "execution_count": 11,
            "source": [
                "pprint()"
            ],
            "outputs": [
                {
                    "output_type": "stream",
                    "name": "stdout",
                    "text": [
                        "Pretty printing has been turned ON\n"
                    ]
                }
            ],
            "metadata": {}
        },
        {
            "cell_type": "code",
            "execution_count": 12,
            "source": [
                "print('I have',len(shoplist),'items to purchase.')"
            ],
            "outputs": [
                {
                    "output_type": "stream",
                    "name": "stdout",
                    "text": [
                        "I have 4 items to purchase.\n"
                    ]
                }
            ],
            "metadata": {}
        },
        {
            "cell_type": "code",
            "execution_count": 13,
            "source": [
                "print('These items are:',end=' ')"
            ],
            "outputs": [
                {
                    "output_type": "stream",
                    "name": "stdout",
                    "text": [
                        "These items are: "
                    ]
                }
            ],
            "metadata": {}
        },
        {
            "cell_type": "code",
            "execution_count": 14,
            "source": [
                "for item in shoplist:\n",
                "    print(item, end = ' ')"
            ],
            "outputs": [
                {
                    "output_type": "stream",
                    "name": "stdout",
                    "text": [
                        "apple mango carrot banana "
                    ]
                }
            ],
            "metadata": {}
        },
        {
            "cell_type": "code",
            "execution_count": 15,
            "source": [
                "print ('\\nI alse have to buy ')"
            ],
            "outputs": [
                {
                    "output_type": "stream",
                    "name": "stdout",
                    "text": [
                        "\n",
                        "I alse have to buy \n"
                    ]
                }
            ],
            "metadata": {}
        },
        {
            "cell_type": "code",
            "execution_count": 16,
            "source": [
                "print('\\nI alse have to buy ')"
            ],
            "outputs": [
                {
                    "output_type": "stream",
                    "name": "stdout",
                    "text": [
                        "\n",
                        "I alse have to buy \n"
                    ]
                }
            ],
            "metadata": {}
        },
        {
            "cell_type": "code",
            "execution_count": 17,
            "source": [
                "shoplist.append('rice')"
            ],
            "outputs": [],
            "metadata": {}
        },
        {
            "cell_type": "code",
            "execution_count": 18,
            "source": [
                "print('My shopping list is now',shoplist)"
            ],
            "outputs": [
                {
                    "output_type": "stream",
                    "name": "stdout",
                    "text": [
                        "My shopping list is now ['apple', 'mango', 'carrot', 'banana', 'rice']\n"
                    ]
                }
            ],
            "metadata": {}
        },
        {
            "cell_type": "code",
            "execution_count": 19,
            "source": [
                "print('Sort my shoplist')"
            ],
            "outputs": [
                {
                    "output_type": "stream",
                    "name": "stdout",
                    "text": [
                        "Sort my shoplist\n"
                    ]
                }
            ],
            "metadata": {}
        },
        {
            "cell_type": "code",
            "execution_count": 20,
            "source": [
                "shoplist.sort()"
            ],
            "outputs": [],
            "metadata": {}
        },
        {
            "cell_type": "code",
            "execution_count": 21,
            "source": [
                "print('sorted list is',shoplist)"
            ],
            "outputs": [
                {
                    "output_type": "stream",
                    "name": "stdout",
                    "text": [
                        "sorted list is ['apple', 'banana', 'carrot', 'mango', 'rice']\n"
                    ]
                }
            ],
            "metadata": {}
        },
        {
            "cell_type": "code",
            "execution_count": 22,
            "source": [
                "print('The first item is',shoplist[0])"
            ],
            "outputs": [
                {
                    "output_type": "stream",
                    "name": "stdout",
                    "text": [
                        "The first item is apple\n"
                    ]
                }
            ],
            "metadata": {}
        },
        {
            "cell_type": "code",
            "execution_count": null,
            "source": [],
            "outputs": [],
            "metadata": {}
        },
        {
            "cell_type": "code",
            "execution_count": 23,
            "source": [
                "del shoplist[0]"
            ],
            "outputs": [],
            "metadata": {}
        },
        {
            "cell_type": "code",
            "execution_count": null,
            "source": [],
            "outputs": [],
            "metadata": {}
        },
        {
            "cell_type": "code",
            "execution_count": 24,
            "source": [
                "print(shoplist\n",
                ")"
            ],
            "outputs": [
                {
                    "output_type": "stream",
                    "name": "stdout",
                    "text": [
                        "['banana', 'carrot', 'mango', 'rice']\n"
                    ]
                }
            ],
            "metadata": {}
        },
        {
            "cell_type": "code",
            "execution_count": null,
            "source": [],
            "outputs": [],
            "metadata": {}
        },
        {
            "cell_type": "code",
            "execution_count": 25,
            "source": [
                " a = range(5)"
            ],
            "outputs": [],
            "metadata": {}
        },
        {
            "cell_type": "code",
            "execution_count": 26,
            "source": [
                "a"
            ],
            "outputs": [
                {
                    "output_type": "execute_result",
                    "data": {
                        "text/plain": [
                            "range(0, 5)"
                        ]
                    },
                    "metadata": {},
                    "execution_count": 26
                }
            ],
            "metadata": {}
        },
        {
            "cell_type": "code",
            "execution_count": 27,
            "source": [
                "print(list(a))"
            ],
            "outputs": [
                {
                    "output_type": "stream",
                    "name": "stdout",
                    "text": [
                        "[0, 1, 2, 3, 4]\n"
                    ]
                }
            ],
            "metadata": {}
        },
        {
            "cell_type": "code",
            "execution_count": 28,
            "source": [
                "a.append(5)"
            ],
            "outputs": [
                {
                    "output_type": "error",
                    "ename": "AttributeError",
                    "evalue": "'range' object has no attribute 'append'",
                    "traceback": [
                        "\u001b[0;31m---------------------------------------------------------------------------\u001b[0m",
                        "\u001b[0;31mAttributeError\u001b[0m                            Traceback (most recent call last)",
                        "\u001b[0;32m/tmp/ipykernel_11496/1441104024.py\u001b[0m in \u001b[0;36m<module>\u001b[0;34m\u001b[0m\n\u001b[0;32m----> 1\u001b[0;31m \u001b[0ma\u001b[0m\u001b[0;34m.\u001b[0m\u001b[0mappend\u001b[0m\u001b[0;34m(\u001b[0m\u001b[0;36m5\u001b[0m\u001b[0;34m)\u001b[0m\u001b[0;34m\u001b[0m\u001b[0;34m\u001b[0m\u001b[0m\n\u001b[0m",
                        "\u001b[0;31mAttributeError\u001b[0m: 'range' object has no attribute 'append'"
                    ]
                }
            ],
            "metadata": {}
        },
        {
            "cell_type": "code",
            "execution_count": null,
            "source": [
                "a = list(a)"
            ],
            "outputs": [],
            "metadata": {}
        },
        {
            "cell_type": "code",
            "execution_count": null,
            "source": [
                "a.append(5)"
            ],
            "outputs": [],
            "metadata": {}
        },
        {
            "cell_type": "code",
            "execution_count": null,
            "source": [
                "a.pop"
            ],
            "outputs": [
                {
                    "output_type": "execute_result",
                    "data": {
                        "text/plain": [
                            "<function list.pop(index=-1, /)>"
                        ]
                    },
                    "metadata": {},
                    "execution_count": 31
                }
            ],
            "metadata": {}
        },
        {
            "cell_type": "code",
            "execution_count": null,
            "source": [
                "a.pop()"
            ],
            "outputs": [
                {
                    "output_type": "execute_result",
                    "data": {
                        "text/plain": [
                            "5"
                        ]
                    },
                    "metadata": {},
                    "execution_count": 32
                }
            ],
            "metadata": {}
        },
        {
            "cell_type": "code",
            "execution_count": null,
            "source": [
                "a.insert(0,42)"
            ],
            "outputs": [],
            "metadata": {}
        },
        {
            "cell_type": "code",
            "execution_count": null,
            "source": [
                "a"
            ],
            "outputs": [
                {
                    "output_type": "execute_result",
                    "data": {
                        "text/plain": [
                            "[42, 0, 1, 2, 3, 4]"
                        ]
                    },
                    "metadata": {},
                    "execution_count": 34
                }
            ],
            "metadata": {}
        },
        {
            "cell_type": "code",
            "execution_count": null,
            "source": [
                "a.sort"
            ],
            "outputs": [
                {
                    "output_type": "execute_result",
                    "data": {
                        "text/plain": [
                            "<function list.sort(*, key=None, reverse=False)>"
                        ]
                    },
                    "metadata": {},
                    "execution_count": 35
                }
            ],
            "metadata": {}
        },
        {
            "cell_type": "code",
            "execution_count": null,
            "source": [
                "a.sort()"
            ],
            "outputs": [],
            "metadata": {}
        },
        {
            "cell_type": "code",
            "execution_count": null,
            "source": [
                "a.reverse()"
            ],
            "outputs": [],
            "metadata": {}
        },
        {
            "cell_type": "code",
            "execution_count": null,
            "source": [
                "a"
            ],
            "outputs": [
                {
                    "output_type": "execute_result",
                    "data": {
                        "text/plain": [
                            "[42, 4, 3, 2, 1, 0]"
                        ]
                    },
                    "metadata": {},
                    "execution_count": 38
                }
            ],
            "metadata": {}
        },
        {
            "cell_type": "code",
            "execution_count": null,
            "source": [],
            "outputs": [],
            "metadata": {}
        },
        {
            "cell_type": "code",
            "execution_count": null,
            "source": [
                "list(range(10))"
            ],
            "outputs": [
                {
                    "output_type": "execute_result",
                    "data": {
                        "text/plain": [
                            "[0, 1, 2, 3, 4, 5, 6, 7, 8, 9]"
                        ]
                    },
                    "metadata": {},
                    "execution_count": 39
                }
            ],
            "metadata": {}
        },
        {
            "cell_type": "code",
            "execution_count": null,
            "source": [
                "sum(list(range(10)))"
            ],
            "outputs": [
                {
                    "output_type": "execute_result",
                    "data": {
                        "text/plain": [
                            "45"
                        ]
                    },
                    "metadata": {},
                    "execution_count": 40
                }
            ],
            "metadata": {}
        },
        {
            "cell_type": "code",
            "execution_count": null,
            "source": [
                "min(list(range(10)))"
            ],
            "outputs": [
                {
                    "output_type": "execute_result",
                    "data": {
                        "text/plain": [
                            "0"
                        ]
                    },
                    "metadata": {},
                    "execution_count": 41
                }
            ],
            "metadata": {}
        },
        {
            "cell_type": "code",
            "execution_count": null,
            "source": [
                "max(list(range(10)))"
            ],
            "outputs": [
                {
                    "output_type": "execute_result",
                    "data": {
                        "text/plain": [
                            "9"
                        ]
                    },
                    "metadata": {},
                    "execution_count": 42
                }
            ],
            "metadata": {}
        },
        {
            "cell_type": "code",
            "execution_count": null,
            "source": [
                "mylist = ['b','c','A','a']"
            ],
            "outputs": [],
            "metadata": {}
        },
        {
            "cell_type": "code",
            "execution_count": null,
            "source": [
                "mylist.sort()"
            ],
            "outputs": [],
            "metadata": {}
        },
        {
            "cell_type": "code",
            "execution_count": null,
            "source": [
                "mylist.sort(key =str.lower)"
            ],
            "outputs": [],
            "metadata": {}
        },
        {
            "cell_type": "code",
            "execution_count": null,
            "source": [
                "nlist = sorted(mylist)"
            ],
            "outputs": [],
            "metadata": {}
        },
        {
            "cell_type": "code",
            "execution_count": null,
            "source": [
                "print(mylist)"
            ],
            "outputs": [
                {
                    "output_type": "stream",
                    "name": "stdout",
                    "text": [
                        "['A', 'a', 'b', 'c']\n"
                    ]
                }
            ],
            "metadata": {}
        },
        {
            "cell_type": "code",
            "execution_count": null,
            "source": [
                "print(nlist)"
            ],
            "outputs": [
                {
                    "output_type": "stream",
                    "name": "stdout",
                    "text": [
                        "['A', 'a', 'b', 'c']\n"
                    ]
                }
            ],
            "metadata": {}
        },
        {
            "cell_type": "code",
            "execution_count": null,
            "source": [
                "nlist - sorted(mylist,reverse=True)"
            ],
            "outputs": [
                {
                    "output_type": "error",
                    "ename": "TypeError",
                    "evalue": "unsupported operand type(s) for -: 'list' and 'list'",
                    "traceback": [
                        "\u001b[0;31m---------------------------------------------------------------------------\u001b[0m",
                        "\u001b[0;31mTypeError\u001b[0m                                 Traceback (most recent call last)",
                        "\u001b[0;32m/tmp/ipykernel_2157/3730186239.py\u001b[0m in \u001b[0;36m<module>\u001b[0;34m\u001b[0m\n\u001b[0;32m----> 1\u001b[0;31m \u001b[0mnlist\u001b[0m \u001b[0;34m-\u001b[0m \u001b[0msorted\u001b[0m\u001b[0;34m(\u001b[0m\u001b[0mmylist\u001b[0m\u001b[0;34m,\u001b[0m\u001b[0mreverse\u001b[0m\u001b[0;34m=\u001b[0m\u001b[0;32mTrue\u001b[0m\u001b[0;34m)\u001b[0m\u001b[0;34m\u001b[0m\u001b[0;34m\u001b[0m\u001b[0m\n\u001b[0m",
                        "\u001b[0;31mTypeError\u001b[0m: unsupported operand type(s) for -: 'list' and 'list'"
                    ]
                }
            ],
            "metadata": {}
        },
        {
            "cell_type": "code",
            "execution_count": null,
            "source": [],
            "outputs": [],
            "metadata": {}
        },
        {
            "cell_type": "code",
            "execution_count": null,
            "source": [],
            "outputs": [],
            "metadata": {}
        },
        {
            "cell_type": "code",
            "execution_count": null,
            "source": [
                "nlist = sorted(mylist,reverse=True)"
            ],
            "outputs": [],
            "metadata": {}
        },
        {
            "cell_type": "code",
            "execution_count": null,
            "source": [
                "mylist"
            ],
            "outputs": [
                {
                    "output_type": "execute_result",
                    "data": {
                        "text/plain": [
                            "['A', 'a', 'b', 'c']"
                        ]
                    },
                    "metadata": {},
                    "execution_count": 51
                }
            ],
            "metadata": {}
        },
        {
            "cell_type": "code",
            "execution_count": null,
            "source": [
                "nlist"
            ],
            "outputs": [
                {
                    "output_type": "execute_result",
                    "data": {
                        "text/plain": [
                            "['c', 'b', 'a', 'A']"
                        ]
                    },
                    "metadata": {},
                    "execution_count": 52
                }
            ],
            "metadata": {}
        },
        {
            "cell_type": "code",
            "execution_count": null,
            "source": [],
            "outputs": [],
            "metadata": {}
        },
        {
            "cell_type": "code",
            "execution_count": null,
            "source": [
                "d.keys()"
            ],
            "outputs": [
                {
                    "output_type": "error",
                    "ename": "NameError",
                    "evalue": "name 'd' is not defined",
                    "traceback": [
                        "\u001b[0;31m---------------------------------------------------------------------------\u001b[0m",
                        "\u001b[0;31mNameError\u001b[0m                                 Traceback (most recent call last)",
                        "\u001b[0;32m/tmp/ipykernel_5195/3434616199.py\u001b[0m in \u001b[0;36m<module>\u001b[0;34m\u001b[0m\n\u001b[0;32m----> 1\u001b[0;31m \u001b[0md\u001b[0m\u001b[0;34m.\u001b[0m\u001b[0mkeys\u001b[0m\u001b[0;34m(\u001b[0m\u001b[0;34m)\u001b[0m\u001b[0;34m\u001b[0m\u001b[0;34m\u001b[0m\u001b[0m\n\u001b[0m",
                        "\u001b[0;31mNameError\u001b[0m: name 'd' is not defined"
                    ]
                }
            ],
            "metadata": {}
        },
        {
            "cell_type": "code",
            "execution_count": null,
            "source": [
                "d.keys() -> ['duck','back']"
            ],
            "outputs": [
                {
                    "output_type": "error",
                    "ename": "SyntaxError",
                    "evalue": "invalid syntax (2673202515.py, line 1)",
                    "traceback": [
                        "\u001b[0;36m  File \u001b[0;32m\"/tmp/ipykernel_5195/2673202515.py\"\u001b[0;36m, line \u001b[0;32m1\u001b[0m\n\u001b[0;31m    d.keys() -> ['duck','back']\u001b[0m\n\u001b[0m             ^\u001b[0m\n\u001b[0;31mSyntaxError\u001b[0m\u001b[0;31m:\u001b[0m invalid syntax\n"
                    ]
                }
            ],
            "metadata": {}
        },
        {
            "cell_type": "code",
            "execution_count": null,
            "source": [
                "d = {'duck':'duik','back' : 'rug'}"
            ],
            "outputs": [],
            "metadata": {}
        },
        {
            "cell_type": "code",
            "execution_count": null,
            "source": [
                "d.keys()"
            ],
            "outputs": [
                {
                    "output_type": "execute_result",
                    "data": {
                        "text/plain": [
                            "dict_keys(['duck', 'back'])"
                        ]
                    },
                    "metadata": {},
                    "execution_count": 4
                }
            ],
            "metadata": {}
        },
        {
            "cell_type": "code",
            "execution_count": null,
            "source": [
                "d.values()"
            ],
            "outputs": [
                {
                    "output_type": "execute_result",
                    "data": {
                        "text/plain": [
                            "dict_values(['duik', 'rug'])"
                        ]
                    },
                    "metadata": {},
                    "execution_count": 5
                }
            ],
            "metadata": {}
        },
        {
            "cell_type": "code",
            "execution_count": null,
            "source": [
                "d.items"
            ],
            "outputs": [
                {
                    "output_type": "execute_result",
                    "data": {
                        "text/plain": [
                            "<function dict.items>"
                        ]
                    },
                    "metadata": {},
                    "execution_count": 6
                }
            ],
            "metadata": {}
        },
        {
            "cell_type": "code",
            "execution_count": null,
            "source": [
                "d.items()"
            ],
            "outputs": [
                {
                    "output_type": "execute_result",
                    "data": {
                        "text/plain": [
                            "dict_items([('duck', 'duik'), ('back', 'rug')])"
                        ]
                    },
                    "metadata": {},
                    "execution_count": 7
                }
            ],
            "metadata": {}
        },
        {
            "cell_type": "code",
            "execution_count": null,
            "source": [
                "d"
            ],
            "outputs": [
                {
                    "output_type": "execute_result",
                    "data": {
                        "text/plain": [
                            "{'duck': 'duik', 'back': 'rug'}"
                        ]
                    },
                    "metadata": {},
                    "execution_count": 8
                }
            ],
            "metadata": {}
        },
        {
            "cell_type": "code",
            "execution_count": null,
            "source": [
                "d.has_key('duck')"
            ],
            "outputs": [
                {
                    "output_type": "error",
                    "ename": "AttributeError",
                    "evalue": "'dict' object has no attribute 'has_key'",
                    "traceback": [
                        "\u001b[0;31m---------------------------------------------------------------------------\u001b[0m",
                        "\u001b[0;31mAttributeError\u001b[0m                            Traceback (most recent call last)",
                        "\u001b[0;32m/tmp/ipykernel_5195/4179061464.py\u001b[0m in \u001b[0;36m<module>\u001b[0;34m\u001b[0m\n\u001b[0;32m----> 1\u001b[0;31m \u001b[0md\u001b[0m\u001b[0;34m.\u001b[0m\u001b[0mhas_key\u001b[0m\u001b[0;34m(\u001b[0m\u001b[0;34m'duck'\u001b[0m\u001b[0;34m)\u001b[0m\u001b[0;34m\u001b[0m\u001b[0;34m\u001b[0m\u001b[0m\n\u001b[0m",
                        "\u001b[0;31mAttributeError\u001b[0m: 'dict' object has no attribute 'has_key'"
                    ]
                }
            ],
            "metadata": {}
        },
        {
            "cell_type": "code",
            "execution_count": null,
            "source": [
                "d.have_key('duck')"
            ],
            "outputs": [
                {
                    "output_type": "error",
                    "ename": "AttributeError",
                    "evalue": "'dict' object has no attribute 'have_key'",
                    "traceback": [
                        "\u001b[0;31m---------------------------------------------------------------------------\u001b[0m",
                        "\u001b[0;31mAttributeError\u001b[0m                            Traceback (most recent call last)",
                        "\u001b[0;32m/tmp/ipykernel_5195/1824780533.py\u001b[0m in \u001b[0;36m<module>\u001b[0;34m\u001b[0m\n\u001b[0;32m----> 1\u001b[0;31m \u001b[0md\u001b[0m\u001b[0;34m.\u001b[0m\u001b[0mhave_key\u001b[0m\u001b[0;34m(\u001b[0m\u001b[0;34m'duck'\u001b[0m\u001b[0;34m)\u001b[0m\u001b[0;34m\u001b[0m\u001b[0;34m\u001b[0m\u001b[0m\n\u001b[0m",
                        "\u001b[0;31mAttributeError\u001b[0m: 'dict' object has no attribute 'have_key'"
                    ]
                }
            ],
            "metadata": {}
        },
        {
            "cell_type": "code",
            "execution_count": null,
            "source": [
                "help(dict)"
            ],
            "outputs": [
                {
                    "output_type": "stream",
                    "name": "stdout",
                    "text": [
                        "Help on class dict in module builtins:\n",
                        "\n",
                        "class dict(object)\n",
                        " |  dict() -> new empty dictionary\n",
                        " |  dict(mapping) -> new dictionary initialized from a mapping object's\n",
                        " |      (key, value) pairs\n",
                        " |  dict(iterable) -> new dictionary initialized as if via:\n",
                        " |      d = {}\n",
                        " |      for k, v in iterable:\n",
                        " |          d[k] = v\n",
                        " |  dict(**kwargs) -> new dictionary initialized with the name=value pairs\n",
                        " |      in the keyword argument list.  For example:  dict(one=1, two=2)\n",
                        " |  \n",
                        " |  Built-in subclasses:\n",
                        " |      StgDict\n",
                        " |  \n",
                        " |  Methods defined here:\n",
                        " |  \n",
                        " |  __contains__(self, key, /)\n",
                        " |      True if the dictionary has the specified key, else False.\n",
                        " |  \n",
                        " |  __delitem__(self, key, /)\n",
                        " |      Delete self[key].\n",
                        " |  \n",
                        " |  __eq__(self, value, /)\n",
                        " |      Return self==value.\n",
                        " |  \n",
                        " |  __ge__(self, value, /)\n",
                        " |      Return self>=value.\n",
                        " |  \n",
                        " |  __getattribute__(self, name, /)\n",
                        " |      Return getattr(self, name).\n",
                        " |  \n",
                        " |  __getitem__(...)\n",
                        " |      x.__getitem__(y) <==> x[y]\n",
                        " |  \n",
                        " |  __gt__(self, value, /)\n",
                        " |      Return self>value.\n",
                        " |  \n",
                        " |  __init__(self, /, *args, **kwargs)\n",
                        " |      Initialize self.  See help(type(self)) for accurate signature.\n",
                        " |  \n",
                        " |  __iter__(self, /)\n",
                        " |      Implement iter(self).\n",
                        " |  \n",
                        " |  __le__(self, value, /)\n",
                        " |      Return self<=value.\n",
                        " |  \n",
                        " |  __len__(self, /)\n",
                        " |      Return len(self).\n",
                        " |  \n",
                        " |  __lt__(self, value, /)\n",
                        " |      Return self<value.\n",
                        " |  \n",
                        " |  __ne__(self, value, /)\n",
                        " |      Return self!=value.\n",
                        " |  \n",
                        " |  __repr__(self, /)\n",
                        " |      Return repr(self).\n",
                        " |  \n",
                        " |  __reversed__(self, /)\n",
                        " |      Return a reverse iterator over the dict keys.\n",
                        " |  \n",
                        " |  __setitem__(self, key, value, /)\n",
                        " |      Set self[key] to value.\n",
                        " |  \n",
                        " |  __sizeof__(...)\n",
                        " |      D.__sizeof__() -> size of D in memory, in bytes\n",
                        " |  \n",
                        " |  clear(...)\n",
                        " |      D.clear() -> None.  Remove all items from D.\n",
                        " |  \n",
                        " |  copy(...)\n",
                        " |      D.copy() -> a shallow copy of D\n",
                        " |  \n",
                        " |  get(self, key, default=None, /)\n",
                        " |      Return the value for key if key is in the dictionary, else default.\n",
                        " |  \n",
                        " |  items(...)\n",
                        " |      D.items() -> a set-like object providing a view on D's items\n",
                        " |  \n",
                        " |  keys(...)\n",
                        " |      D.keys() -> a set-like object providing a view on D's keys\n",
                        " |  \n",
                        " |  pop(...)\n",
                        " |      D.pop(k[,d]) -> v, remove specified key and return the corresponding value.\n",
                        " |      If key is not found, d is returned if given, otherwise KeyError is raised\n",
                        " |  \n",
                        " |  popitem(self, /)\n",
                        " |      Remove and return a (key, value) pair as a 2-tuple.\n",
                        " |      \n",
                        " |      Pairs are returned in LIFO (last-in, first-out) order.\n",
                        " |      Raises KeyError if the dict is empty.\n",
                        " |  \n",
                        " |  setdefault(self, key, default=None, /)\n",
                        " |      Insert key with a value of default if key is not in the dictionary.\n",
                        " |      \n",
                        " |      Return the value for key if key is in the dictionary, else default.\n",
                        " |  \n",
                        " |  update(...)\n",
                        " |      D.update([E, ]**F) -> None.  Update D from dict/iterable E and F.\n",
                        " |      If E is present and has a .keys() method, then does:  for k in E: D[k] = E[k]\n",
                        " |      If E is present and lacks a .keys() method, then does:  for k, v in E: D[k] = v\n",
                        " |      In either case, this is followed by: for k in F:  D[k] = F[k]\n",
                        " |  \n",
                        " |  values(...)\n",
                        " |      D.values() -> an object providing a view on D's values\n",
                        " |  \n",
                        " |  ----------------------------------------------------------------------\n",
                        " |  Class methods defined here:\n",
                        " |  \n",
                        " |  fromkeys(iterable, value=None, /) from builtins.type\n",
                        " |      Create a new dictionary with keys from iterable and values set to value.\n",
                        " |  \n",
                        " |  ----------------------------------------------------------------------\n",
                        " |  Static methods defined here:\n",
                        " |  \n",
                        " |  __new__(*args, **kwargs) from builtins.type\n",
                        " |      Create and return a new object.  See help(type) for accurate signature.\n",
                        " |  \n",
                        " |  ----------------------------------------------------------------------\n",
                        " |  Data and other attributes defined here:\n",
                        " |  \n",
                        " |  __hash__ = None\n",
                        "\n"
                    ]
                }
            ],
            "metadata": {}
        },
        {
            "cell_type": "code",
            "execution_count": null,
            "source": [],
            "outputs": [],
            "metadata": {}
        },
        {
            "cell_type": "code",
            "execution_count": null,
            "source": [
                "d = dict(a = 12,b = 'abc',c = 15)"
            ],
            "outputs": [],
            "metadata": {}
        },
        {
            "cell_type": "code",
            "execution_count": null,
            "source": [
                "print(d)"
            ],
            "outputs": [
                {
                    "output_type": "stream",
                    "name": "stdout",
                    "text": [
                        "{'a': 12, 'b': 'abc', 'c': 15}\n"
                    ]
                }
            ],
            "metadata": {}
        },
        {
            "cell_type": "code",
            "execution_count": null,
            "source": [
                "for item in d.items():\n",
                "    print(item)\n",
                "for key in d:\n",
                "    print(key,d[key])\n",
                "for value in d.values():\n",
                "    print(value)"
            ],
            "outputs": [
                {
                    "output_type": "stream",
                    "name": "stdout",
                    "text": [
                        "('a', 12)\n",
                        "('b', 'abc')\n",
                        "('c', 15)\n",
                        "a 12\n",
                        "b abc\n",
                        "c 15\n",
                        "12\n",
                        "abc\n",
                        "15\n"
                    ]
                }
            ],
            "metadata": {}
        },
        {
            "cell_type": "code",
            "execution_count": null,
            "source": [
                "for key in d.keys():\n",
                "    print(key)"
            ],
            "outputs": [
                {
                    "output_type": "stream",
                    "name": "stdout",
                    "text": [
                        "a\n",
                        "b\n",
                        "c\n"
                    ]
                }
            ],
            "metadata": {}
        },
        {
            "cell_type": "code",
            "execution_count": null,
            "source": [
                "for item in d:\n",
                "    print(item)"
            ],
            "outputs": [
                {
                    "output_type": "stream",
                    "name": "stdout",
                    "text": [
                        "a\n",
                        "b\n",
                        "c\n"
                    ]
                }
            ],
            "metadata": {}
        },
        {
            "cell_type": "code",
            "execution_count": null,
            "source": [
                "for item in d.items():\n",
                "    print(item)"
            ],
            "outputs": [
                {
                    "output_type": "stream",
                    "name": "stdout",
                    "text": [
                        "('a', 12)\n",
                        "('b', 'abc')\n",
                        "('c', 15)\n"
                    ]
                }
            ],
            "metadata": {}
        },
        {
            "cell_type": "code",
            "execution_count": null,
            "source": [],
            "outputs": [],
            "metadata": {}
        },
        {
            "cell_type": "code",
            "execution_count": null,
            "source": [
                "disordered = {10 : 'b',\n",
                "            3:'a',\n",
                "            5:'c'}"
            ],
            "outputs": [],
            "metadata": {}
        },
        {
            "cell_type": "code",
            "execution_count": null,
            "source": [
                "sorted_dict = {\n",
                "    k:disordered[k] for k in sorted(disordered)\n",
                "}\n",
                "print(sorted_dict)"
            ],
            "outputs": [
                {
                    "output_type": "stream",
                    "name": "stdout",
                    "text": [
                        "{3: 'a', 5: 'c', 10: 'b'}\n"
                    ]
                }
            ],
            "metadata": {}
        },
        {
            "cell_type": "code",
            "execution_count": null,
            "source": [
                "sorted_dict = sorted([(v,k) for (k,v) in disordered.items()],reverse=True)"
            ],
            "outputs": [],
            "metadata": {}
        },
        {
            "cell_type": "code",
            "execution_count": null,
            "source": [
                "print(sorted_dict\n",
                ")"
            ],
            "outputs": [
                {
                    "output_type": "stream",
                    "name": "stdout",
                    "text": [
                        "[('c', 5), ('b', 10), ('a', 3)]\n"
                    ]
                }
            ],
            "metadata": {}
        },
        {
            "cell_type": "code",
            "execution_count": null,
            "source": [
                "dict = [(x,y) for (y,x) in disordered.items()]"
            ],
            "outputs": [],
            "metadata": {}
        },
        {
            "cell_type": "code",
            "execution_count": null,
            "source": [
                "print(dict)"
            ],
            "outputs": [
                {
                    "output_type": "stream",
                    "name": "stdout",
                    "text": [
                        "[('b', 10), ('a', 3), ('c', 5)]\n"
                    ]
                }
            ],
            "metadata": {}
        },
        {
            "cell_type": "code",
            "execution_count": null,
            "source": [
                "print(disordered)"
            ],
            "outputs": [
                {
                    "output_type": "stream",
                    "name": "stdout",
                    "text": [
                        "{10: 'b', 3: 'a', 5: 'c'}\n"
                    ]
                }
            ],
            "metadata": {}
        },
        {
            "cell_type": "code",
            "execution_count": null,
            "source": [
                "help(sorted)"
            ],
            "outputs": [
                {
                    "output_type": "stream",
                    "name": "stdout",
                    "text": [
                        "Help on built-in function sorted in module builtins:\n",
                        "\n",
                        "sorted(iterable, /, *, key=None, reverse=False)\n",
                        "    Return a new list containing all items from the iterable in ascending order.\n",
                        "    \n",
                        "    A custom key function can be supplied to customize the sort order, and the\n",
                        "    reverse flag can be set to request the result in descending order.\n",
                        "\n"
                    ]
                }
            ],
            "metadata": {}
        },
        {
            "cell_type": "code",
            "execution_count": null,
            "source": [],
            "outputs": [],
            "metadata": {}
        },
        {
            "cell_type": "code",
            "execution_count": null,
            "source": [
                "bri = set(['brazil','russia','india'])"
            ],
            "outputs": [],
            "metadata": {}
        },
        {
            "cell_type": "code",
            "execution_count": null,
            "source": [
                "india in bri"
            ],
            "outputs": [
                {
                    "output_type": "error",
                    "ename": "NameError",
                    "evalue": "name 'india' is not defined",
                    "traceback": [
                        "\u001b[0;31m---------------------------------------------------------------------------\u001b[0m",
                        "\u001b[0;31mNameError\u001b[0m                                 Traceback (most recent call last)",
                        "\u001b[0;32m/tmp/ipykernel_5195/3170887693.py\u001b[0m in \u001b[0;36m<module>\u001b[0;34m\u001b[0m\n\u001b[0;32m----> 1\u001b[0;31m \u001b[0mindia\u001b[0m \u001b[0;32min\u001b[0m \u001b[0mbri\u001b[0m\u001b[0;34m\u001b[0m\u001b[0;34m\u001b[0m\u001b[0m\n\u001b[0m",
                        "\u001b[0;31mNameError\u001b[0m: name 'india' is not defined"
                    ]
                }
            ],
            "metadata": {}
        },
        {
            "cell_type": "code",
            "execution_count": null,
            "source": [
                "'india' in  bri"
            ],
            "outputs": [
                {
                    "output_type": "execute_result",
                    "data": {
                        "text/plain": [
                            "True"
                        ]
                    },
                    "metadata": {},
                    "execution_count": 29
                }
            ],
            "metadata": {}
        },
        {
            "cell_type": "code",
            "execution_count": null,
            "source": [
                "'usa' in bri"
            ],
            "outputs": [
                {
                    "output_type": "execute_result",
                    "data": {
                        "text/plain": [
                            "False"
                        ]
                    },
                    "metadata": {},
                    "execution_count": 30
                }
            ],
            "metadata": {}
        },
        {
            "cell_type": "code",
            "execution_count": null,
            "source": [
                "['inda'] in bri"
            ],
            "outputs": [
                {
                    "output_type": "error",
                    "ename": "TypeError",
                    "evalue": "unhashable type: 'list'",
                    "traceback": [
                        "\u001b[0;31m---------------------------------------------------------------------------\u001b[0m",
                        "\u001b[0;31mTypeError\u001b[0m                                 Traceback (most recent call last)",
                        "\u001b[0;32m/tmp/ipykernel_5195/947338307.py\u001b[0m in \u001b[0;36m<module>\u001b[0;34m\u001b[0m\n\u001b[0;32m----> 1\u001b[0;31m \u001b[0;34m[\u001b[0m\u001b[0;34m'inda'\u001b[0m\u001b[0;34m]\u001b[0m \u001b[0;32min\u001b[0m \u001b[0mbri\u001b[0m\u001b[0;34m\u001b[0m\u001b[0;34m\u001b[0m\u001b[0m\n\u001b[0m",
                        "\u001b[0;31mTypeError\u001b[0m: unhashable type: 'list'"
                    ]
                }
            ],
            "metadata": {}
        },
        {
            "cell_type": "code",
            "execution_count": null,
            "source": [
                "bric = bri.copy()"
            ],
            "outputs": [],
            "metadata": {}
        },
        {
            "cell_type": "code",
            "execution_count": null,
            "source": [
                "pric.add('china')"
            ],
            "outputs": [
                {
                    "output_type": "error",
                    "ename": "NameError",
                    "evalue": "name 'pric' is not defined",
                    "traceback": [
                        "\u001b[0;31m---------------------------------------------------------------------------\u001b[0m",
                        "\u001b[0;31mNameError\u001b[0m                                 Traceback (most recent call last)",
                        "\u001b[0;32m/tmp/ipykernel_5195/2856375405.py\u001b[0m in \u001b[0;36m<module>\u001b[0;34m\u001b[0m\n\u001b[0;32m----> 1\u001b[0;31m \u001b[0mpric\u001b[0m\u001b[0;34m.\u001b[0m\u001b[0madd\u001b[0m\u001b[0;34m(\u001b[0m\u001b[0;34m'china'\u001b[0m\u001b[0;34m)\u001b[0m\u001b[0;34m\u001b[0m\u001b[0;34m\u001b[0m\u001b[0m\n\u001b[0m",
                        "\u001b[0;31mNameError\u001b[0m: name 'pric' is not defined"
                    ]
                }
            ],
            "metadata": {}
        },
        {
            "cell_type": "code",
            "execution_count": null,
            "source": [],
            "outputs": [],
            "metadata": {}
        },
        {
            "cell_type": "code",
            "execution_count": null,
            "source": [
                "bric.add('china')"
            ],
            "outputs": [],
            "metadata": {}
        },
        {
            "cell_type": "code",
            "execution_count": null,
            "source": [
                "bric.issuperset(bri)"
            ],
            "outputs": [
                {
                    "output_type": "execute_result",
                    "data": {
                        "text/plain": [
                            "True"
                        ]
                    },
                    "metadata": {},
                    "execution_count": 35
                }
            ],
            "metadata": {}
        },
        {
            "cell_type": "code",
            "execution_count": null,
            "source": [
                "bric.issubset(brI)"
            ],
            "outputs": [
                {
                    "output_type": "error",
                    "ename": "NameError",
                    "evalue": "name 'brI' is not defined",
                    "traceback": [
                        "\u001b[0;31m---------------------------------------------------------------------------\u001b[0m",
                        "\u001b[0;31mNameError\u001b[0m                                 Traceback (most recent call last)",
                        "\u001b[0;32m/tmp/ipykernel_5195/1193606718.py\u001b[0m in \u001b[0;36m<module>\u001b[0;34m\u001b[0m\n\u001b[0;32m----> 1\u001b[0;31m \u001b[0mbric\u001b[0m\u001b[0;34m.\u001b[0m\u001b[0missubset\u001b[0m\u001b[0;34m(\u001b[0m\u001b[0mbrI\u001b[0m\u001b[0;34m)\u001b[0m\u001b[0;34m\u001b[0m\u001b[0;34m\u001b[0m\u001b[0m\n\u001b[0m",
                        "\u001b[0;31mNameError\u001b[0m: name 'brI' is not defined"
                    ]
                }
            ],
            "metadata": {}
        },
        {
            "cell_type": "code",
            "execution_count": null,
            "source": [
                "bric.issubset(brI)"
            ],
            "outputs": [
                {
                    "output_type": "error",
                    "ename": "NameError",
                    "evalue": "name 'brI' is not defined",
                    "traceback": [
                        "\u001b[0;31m---------------------------------------------------------------------------\u001b[0m",
                        "\u001b[0;31mNameError\u001b[0m                                 Traceback (most recent call last)",
                        "\u001b[0;32m/tmp/ipykernel_5195/1193606718.py\u001b[0m in \u001b[0;36m<module>\u001b[0;34m\u001b[0m\n\u001b[0;32m----> 1\u001b[0;31m \u001b[0mbric\u001b[0m\u001b[0;34m.\u001b[0m\u001b[0missubset\u001b[0m\u001b[0;34m(\u001b[0m\u001b[0mbrI\u001b[0m\u001b[0;34m)\u001b[0m\u001b[0;34m\u001b[0m\u001b[0;34m\u001b[0m\u001b[0m\n\u001b[0m",
                        "\u001b[0;31mNameError\u001b[0m: name 'brI' is not defined"
                    ]
                }
            ],
            "metadata": {}
        },
        {
            "cell_type": "code",
            "execution_count": null,
            "source": [
                "bric.issubset(bri)"
            ],
            "outputs": [
                {
                    "output_type": "execute_result",
                    "data": {
                        "text/plain": [
                            "False"
                        ]
                    },
                    "metadata": {},
                    "execution_count": 38
                }
            ],
            "metadata": {}
        },
        {
            "cell_type": "code",
            "execution_count": null,
            "source": [
                "bri.remove('russia')"
            ],
            "outputs": [],
            "metadata": {}
        },
        {
            "cell_type": "code",
            "execution_count": null,
            "source": [
                "bri&bric"
            ],
            "outputs": [
                {
                    "output_type": "execute_result",
                    "data": {
                        "text/plain": [
                            "{'brazil', 'india'}"
                        ]
                    },
                    "metadata": {},
                    "execution_count": 40
                }
            ],
            "metadata": {}
        },
        {
            "cell_type": "code",
            "execution_count": null,
            "source": [
                "bri|bric"
            ],
            "outputs": [
                {
                    "output_type": "execute_result",
                    "data": {
                        "text/plain": [
                            "{'brazil', 'china', 'india', 'russia'}"
                        ]
                    },
                    "metadata": {},
                    "execution_count": 41
                }
            ],
            "metadata": {}
        },
        {
            "cell_type": "code",
            "execution_count": null,
            "source": [],
            "outputs": [],
            "metadata": {}
        },
        {
            "cell_type": "code",
            "execution_count": null,
            "source": [],
            "outputs": [],
            "metadata": {}
        },
        {
            "cell_type": "code",
            "execution_count": null,
            "source": [],
            "outputs": [],
            "metadata": {}
        },
        {
            "cell_type": "code",
            "execution_count": null,
            "source": [],
            "outputs": [],
            "metadata": {}
        },
        {
            "cell_type": "code",
            "execution_count": null,
            "source": [],
            "outputs": [],
            "metadata": {}
        },
        {
            "cell_type": "code",
            "execution_count": null,
            "source": [],
            "outputs": [],
            "metadata": {}
        },
        {
            "cell_type": "code",
            "execution_count": null,
            "source": [],
            "outputs": [],
            "metadata": {}
        },
        {
            "cell_type": "code",
            "execution_count": null,
            "source": [],
            "outputs": [],
            "metadata": {}
        },
        {
            "cell_type": "code",
            "execution_count": null,
            "source": [],
            "outputs": [],
            "metadata": {}
        },
        {
            "cell_type": "code",
            "execution_count": null,
            "source": [],
            "outputs": [],
            "metadata": {}
        },
        {
            "cell_type": "code",
            "execution_count": null,
            "source": [],
            "outputs": [],
            "metadata": {}
        },
        {
            "cell_type": "code",
            "execution_count": null,
            "source": [],
            "outputs": [],
            "metadata": {}
        },
        {
            "cell_type": "code",
            "execution_count": null,
            "source": [],
            "outputs": [],
            "metadata": {}
        },
        {
            "cell_type": "code",
            "execution_count": null,
            "source": [],
            "outputs": [],
            "metadata": {}
        },
        {
            "cell_type": "code",
            "execution_count": null,
            "source": [],
            "outputs": [],
            "metadata": {}
        },
        {
            "cell_type": "code",
            "execution_count": null,
            "source": [],
            "outputs": [],
            "metadata": {}
        },
        {
            "cell_type": "code",
            "execution_count": null,
            "source": [],
            "outputs": [],
            "metadata": {}
        },
        {
            "cell_type": "code",
            "execution_count": null,
            "source": [],
            "outputs": [],
            "metadata": {}
        },
        {
            "cell_type": "code",
            "execution_count": null,
            "source": [],
            "outputs": [],
            "metadata": {}
        },
        {
            "cell_type": "code",
            "execution_count": null,
            "source": [],
            "outputs": [],
            "metadata": {}
        },
        {
            "cell_type": "code",
            "execution_count": null,
            "source": [],
            "outputs": [],
            "metadata": {}
        },
        {
            "cell_type": "code",
            "execution_count": null,
            "source": [],
            "outputs": [],
            "metadata": {}
        },
        {
            "cell_type": "code",
            "execution_count": 30,
            "source": [
                "help(str)"
            ],
            "outputs": [
                {
                    "output_type": "stream",
                    "name": "stdout",
                    "text": [
                        "Help on class str in module builtins:\n",
                        "\n",
                        "class str(object)\n",
                        " |  str(object='') -> str\n",
                        " |  str(bytes_or_buffer[, encoding[, errors]]) -> str\n",
                        " |  \n",
                        " |  Create a new string object from the given object. If encoding or\n",
                        " |  errors is specified, then the object must expose a data buffer\n",
                        " |  that will be decoded using the given encoding and error handler.\n",
                        " |  Otherwise, returns the result of object.__str__() (if defined)\n",
                        " |  or repr(object).\n",
                        " |  encoding defaults to sys.getdefaultencoding().\n",
                        " |  errors defaults to 'strict'.\n",
                        " |  \n",
                        " |  Methods defined here:\n",
                        " |  \n",
                        " |  __add__(self, value, /)\n",
                        " |      Return self+value.\n",
                        " |  \n",
                        " |  __contains__(self, key, /)\n",
                        " |      Return key in self.\n",
                        " |  \n",
                        " |  __eq__(self, value, /)\n",
                        " |      Return self==value.\n",
                        " |  \n",
                        " |  __format__(self, format_spec, /)\n",
                        " |      Return a formatted version of the string as described by format_spec.\n",
                        " |  \n",
                        " |  __ge__(self, value, /)\n",
                        " |      Return self>=value.\n",
                        " |  \n",
                        " |  __getattribute__(self, name, /)\n",
                        " |      Return getattr(self, name).\n",
                        " |  \n",
                        " |  __getitem__(self, key, /)\n",
                        " |      Return self[key].\n",
                        " |  \n",
                        " |  __getnewargs__(...)\n",
                        " |  \n",
                        " |  __gt__(self, value, /)\n",
                        " |      Return self>value.\n",
                        " |  \n",
                        " |  __hash__(self, /)\n",
                        " |      Return hash(self).\n",
                        " |  \n",
                        " |  __iter__(self, /)\n",
                        " |      Implement iter(self).\n",
                        " |  \n",
                        " |  __le__(self, value, /)\n",
                        " |      Return self<=value.\n",
                        " |  \n",
                        " |  __len__(self, /)\n",
                        " |      Return len(self).\n",
                        " |  \n",
                        " |  __lt__(self, value, /)\n",
                        " |      Return self<value.\n",
                        " |  \n",
                        " |  __mod__(self, value, /)\n",
                        " |      Return self%value.\n",
                        " |  \n",
                        " |  __mul__(self, value, /)\n",
                        " |      Return self*value.\n",
                        " |  \n",
                        " |  __ne__(self, value, /)\n",
                        " |      Return self!=value.\n",
                        " |  \n",
                        " |  __repr__(self, /)\n",
                        " |      Return repr(self).\n",
                        " |  \n",
                        " |  __rmod__(self, value, /)\n",
                        " |      Return value%self.\n",
                        " |  \n",
                        " |  __rmul__(self, value, /)\n",
                        " |      Return value*self.\n",
                        " |  \n",
                        " |  __sizeof__(self, /)\n",
                        " |      Return the size of the string in memory, in bytes.\n",
                        " |  \n",
                        " |  __str__(self, /)\n",
                        " |      Return str(self).\n",
                        " |  \n",
                        " |  capitalize(self, /)\n",
                        " |      Return a capitalized version of the string.\n",
                        " |      \n",
                        " |      More specifically, make the first character have upper case and the rest lower\n",
                        " |      case.\n",
                        " |  \n",
                        " |  casefold(self, /)\n",
                        " |      Return a version of the string suitable for caseless comparisons.\n",
                        " |  \n",
                        " |  center(self, width, fillchar=' ', /)\n",
                        " |      Return a centered string of length width.\n",
                        " |      \n",
                        " |      Padding is done using the specified fill character (default is a space).\n",
                        " |  \n",
                        " |  count(...)\n",
                        " |      S.count(sub[, start[, end]]) -> int\n",
                        " |      \n",
                        " |      Return the number of non-overlapping occurrences of substring sub in\n",
                        " |      string S[start:end].  Optional arguments start and end are\n",
                        " |      interpreted as in slice notation.\n",
                        " |  \n",
                        " |  encode(self, /, encoding='utf-8', errors='strict')\n",
                        " |      Encode the string using the codec registered for encoding.\n",
                        " |      \n",
                        " |      encoding\n",
                        " |        The encoding in which to encode the string.\n",
                        " |      errors\n",
                        " |        The error handling scheme to use for encoding errors.\n",
                        " |        The default is 'strict' meaning that encoding errors raise a\n",
                        " |        UnicodeEncodeError.  Other possible values are 'ignore', 'replace' and\n",
                        " |        'xmlcharrefreplace' as well as any other name registered with\n",
                        " |        codecs.register_error that can handle UnicodeEncodeErrors.\n",
                        " |  \n",
                        " |  endswith(...)\n",
                        " |      S.endswith(suffix[, start[, end]]) -> bool\n",
                        " |      \n",
                        " |      Return True if S ends with the specified suffix, False otherwise.\n",
                        " |      With optional start, test S beginning at that position.\n",
                        " |      With optional end, stop comparing S at that position.\n",
                        " |      suffix can also be a tuple of strings to try.\n",
                        " |  \n",
                        " |  expandtabs(self, /, tabsize=8)\n",
                        " |      Return a copy where all tab characters are expanded using spaces.\n",
                        " |      \n",
                        " |      If tabsize is not given, a tab size of 8 characters is assumed.\n",
                        " |  \n",
                        " |  find(...)\n",
                        " |      S.find(sub[, start[, end]]) -> int\n",
                        " |      \n",
                        " |      Return the lowest index in S where substring sub is found,\n",
                        " |      such that sub is contained within S[start:end].  Optional\n",
                        " |      arguments start and end are interpreted as in slice notation.\n",
                        " |      \n",
                        " |      Return -1 on failure.\n",
                        " |  \n",
                        " |  format(...)\n",
                        " |      S.format(*args, **kwargs) -> str\n",
                        " |      \n",
                        " |      Return a formatted version of S, using substitutions from args and kwargs.\n",
                        " |      The substitutions are identified by braces ('{' and '}').\n",
                        " |  \n",
                        " |  format_map(...)\n",
                        " |      S.format_map(mapping) -> str\n",
                        " |      \n",
                        " |      Return a formatted version of S, using substitutions from mapping.\n",
                        " |      The substitutions are identified by braces ('{' and '}').\n",
                        " |  \n",
                        " |  index(...)\n",
                        " |      S.index(sub[, start[, end]]) -> int\n",
                        " |      \n",
                        " |      Return the lowest index in S where substring sub is found,\n",
                        " |      such that sub is contained within S[start:end].  Optional\n",
                        " |      arguments start and end are interpreted as in slice notation.\n",
                        " |      \n",
                        " |      Raises ValueError when the substring is not found.\n",
                        " |  \n",
                        " |  isalnum(self, /)\n",
                        " |      Return True if the string is an alpha-numeric string, False otherwise.\n",
                        " |      \n",
                        " |      A string is alpha-numeric if all characters in the string are alpha-numeric and\n",
                        " |      there is at least one character in the string.\n",
                        " |  \n",
                        " |  isalpha(self, /)\n",
                        " |      Return True if the string is an alphabetic string, False otherwise.\n",
                        " |      \n",
                        " |      A string is alphabetic if all characters in the string are alphabetic and there\n",
                        " |      is at least one character in the string.\n",
                        " |  \n",
                        " |  isascii(self, /)\n",
                        " |      Return True if all characters in the string are ASCII, False otherwise.\n",
                        " |      \n",
                        " |      ASCII characters have code points in the range U+0000-U+007F.\n",
                        " |      Empty string is ASCII too.\n",
                        " |  \n",
                        " |  isdecimal(self, /)\n",
                        " |      Return True if the string is a decimal string, False otherwise.\n",
                        " |      \n",
                        " |      A string is a decimal string if all characters in the string are decimal and\n",
                        " |      there is at least one character in the string.\n",
                        " |  \n",
                        " |  isdigit(self, /)\n",
                        " |      Return True if the string is a digit string, False otherwise.\n",
                        " |      \n",
                        " |      A string is a digit string if all characters in the string are digits and there\n",
                        " |      is at least one character in the string.\n",
                        " |  \n",
                        " |  isidentifier(self, /)\n",
                        " |      Return True if the string is a valid Python identifier, False otherwise.\n",
                        " |      \n",
                        " |      Call keyword.iskeyword(s) to test whether string s is a reserved identifier,\n",
                        " |      such as \"def\" or \"class\".\n",
                        " |  \n",
                        " |  islower(self, /)\n",
                        " |      Return True if the string is a lowercase string, False otherwise.\n",
                        " |      \n",
                        " |      A string is lowercase if all cased characters in the string are lowercase and\n",
                        " |      there is at least one cased character in the string.\n",
                        " |  \n",
                        " |  isnumeric(self, /)\n",
                        " |      Return True if the string is a numeric string, False otherwise.\n",
                        " |      \n",
                        " |      A string is numeric if all characters in the string are numeric and there is at\n",
                        " |      least one character in the string.\n",
                        " |  \n",
                        " |  isprintable(self, /)\n",
                        " |      Return True if the string is printable, False otherwise.\n",
                        " |      \n",
                        " |      A string is printable if all of its characters are considered printable in\n",
                        " |      repr() or if it is empty.\n",
                        " |  \n",
                        " |  isspace(self, /)\n",
                        " |      Return True if the string is a whitespace string, False otherwise.\n",
                        " |      \n",
                        " |      A string is whitespace if all characters in the string are whitespace and there\n",
                        " |      is at least one character in the string.\n",
                        " |  \n",
                        " |  istitle(self, /)\n",
                        " |      Return True if the string is a title-cased string, False otherwise.\n",
                        " |      \n",
                        " |      In a title-cased string, upper- and title-case characters may only\n",
                        " |      follow uncased characters and lowercase characters only cased ones.\n",
                        " |  \n",
                        " |  isupper(self, /)\n",
                        " |      Return True if the string is an uppercase string, False otherwise.\n",
                        " |      \n",
                        " |      A string is uppercase if all cased characters in the string are uppercase and\n",
                        " |      there is at least one cased character in the string.\n",
                        " |  \n",
                        " |  join(self, iterable, /)\n",
                        " |      Concatenate any number of strings.\n",
                        " |      \n",
                        " |      The string whose method is called is inserted in between each given string.\n",
                        " |      The result is returned as a new string.\n",
                        " |      \n",
                        " |      Example: '.'.join(['ab', 'pq', 'rs']) -> 'ab.pq.rs'\n",
                        " |  \n",
                        " |  ljust(self, width, fillchar=' ', /)\n",
                        " |      Return a left-justified string of length width.\n",
                        " |      \n",
                        " |      Padding is done using the specified fill character (default is a space).\n",
                        " |  \n",
                        " |  lower(self, /)\n",
                        " |      Return a copy of the string converted to lowercase.\n",
                        " |  \n",
                        " |  lstrip(self, chars=None, /)\n",
                        " |      Return a copy of the string with leading whitespace removed.\n",
                        " |      \n",
                        " |      If chars is given and not None, remove characters in chars instead.\n",
                        " |  \n",
                        " |  partition(self, sep, /)\n",
                        " |      Partition the string into three parts using the given separator.\n",
                        " |      \n",
                        " |      This will search for the separator in the string.  If the separator is found,\n",
                        " |      returns a 3-tuple containing the part before the separator, the separator\n",
                        " |      itself, and the part after it.\n",
                        " |      \n",
                        " |      If the separator is not found, returns a 3-tuple containing the original string\n",
                        " |      and two empty strings.\n",
                        " |  \n",
                        " |  replace(self, old, new, count=-1, /)\n",
                        " |      Return a copy with all occurrences of substring old replaced by new.\n",
                        " |      \n",
                        " |        count\n",
                        " |          Maximum number of occurrences to replace.\n",
                        " |          -1 (the default value) means replace all occurrences.\n",
                        " |      \n",
                        " |      If the optional argument count is given, only the first count occurrences are\n",
                        " |      replaced.\n",
                        " |  \n",
                        " |  rfind(...)\n",
                        " |      S.rfind(sub[, start[, end]]) -> int\n",
                        " |      \n",
                        " |      Return the highest index in S where substring sub is found,\n",
                        " |      such that sub is contained within S[start:end].  Optional\n",
                        " |      arguments start and end are interpreted as in slice notation.\n",
                        " |      \n",
                        " |      Return -1 on failure.\n",
                        " |  \n",
                        " |  rindex(...)\n",
                        " |      S.rindex(sub[, start[, end]]) -> int\n",
                        " |      \n",
                        " |      Return the highest index in S where substring sub is found,\n",
                        " |      such that sub is contained within S[start:end].  Optional\n",
                        " |      arguments start and end are interpreted as in slice notation.\n",
                        " |      \n",
                        " |      Raises ValueError when the substring is not found.\n",
                        " |  \n",
                        " |  rjust(self, width, fillchar=' ', /)\n",
                        " |      Return a right-justified string of length width.\n",
                        " |      \n",
                        " |      Padding is done using the specified fill character (default is a space).\n",
                        " |  \n",
                        " |  rpartition(self, sep, /)\n",
                        " |      Partition the string into three parts using the given separator.\n",
                        " |      \n",
                        " |      This will search for the separator in the string, starting at the end. If\n",
                        " |      the separator is found, returns a 3-tuple containing the part before the\n",
                        " |      separator, the separator itself, and the part after it.\n",
                        " |      \n",
                        " |      If the separator is not found, returns a 3-tuple containing two empty strings\n",
                        " |      and the original string.\n",
                        " |  \n",
                        " |  rsplit(self, /, sep=None, maxsplit=-1)\n",
                        " |      Return a list of the words in the string, using sep as the delimiter string.\n",
                        " |      \n",
                        " |        sep\n",
                        " |          The delimiter according which to split the string.\n",
                        " |          None (the default value) means split according to any whitespace,\n",
                        " |          and discard empty strings from the result.\n",
                        " |        maxsplit\n",
                        " |          Maximum number of splits to do.\n",
                        " |          -1 (the default value) means no limit.\n",
                        " |      \n",
                        " |      Splits are done starting at the end of the string and working to the front.\n",
                        " |  \n",
                        " |  rstrip(self, chars=None, /)\n",
                        " |      Return a copy of the string with trailing whitespace removed.\n",
                        " |      \n",
                        " |      If chars is given and not None, remove characters in chars instead.\n",
                        " |  \n",
                        " |  split(self, /, sep=None, maxsplit=-1)\n",
                        " |      Return a list of the words in the string, using sep as the delimiter string.\n",
                        " |      \n",
                        " |      sep\n",
                        " |        The delimiter according which to split the string.\n",
                        " |        None (the default value) means split according to any whitespace,\n",
                        " |        and discard empty strings from the result.\n",
                        " |      maxsplit\n",
                        " |        Maximum number of splits to do.\n",
                        " |        -1 (the default value) means no limit.\n",
                        " |  \n",
                        " |  splitlines(self, /, keepends=False)\n",
                        " |      Return a list of the lines in the string, breaking at line boundaries.\n",
                        " |      \n",
                        " |      Line breaks are not included in the resulting list unless keepends is given and\n",
                        " |      true.\n",
                        " |  \n",
                        " |  startswith(...)\n",
                        " |      S.startswith(prefix[, start[, end]]) -> bool\n",
                        " |      \n",
                        " |      Return True if S starts with the specified prefix, False otherwise.\n",
                        " |      With optional start, test S beginning at that position.\n",
                        " |      With optional end, stop comparing S at that position.\n",
                        " |      prefix can also be a tuple of strings to try.\n",
                        " |  \n",
                        " |  strip(self, chars=None, /)\n",
                        " |      Return a copy of the string with leading and trailing whitespace removed.\n",
                        " |      \n",
                        " |      If chars is given and not None, remove characters in chars instead.\n",
                        " |  \n",
                        " |  swapcase(self, /)\n",
                        " |      Convert uppercase characters to lowercase and lowercase characters to uppercase.\n",
                        " |  \n",
                        " |  title(self, /)\n",
                        " |      Return a version of the string where each word is titlecased.\n",
                        " |      \n",
                        " |      More specifically, words start with uppercased characters and all remaining\n",
                        " |      cased characters have lower case.\n",
                        " |  \n",
                        " |  translate(self, table, /)\n",
                        " |      Replace each character in the string using the given translation table.\n",
                        " |      \n",
                        " |        table\n",
                        " |          Translation table, which must be a mapping of Unicode ordinals to\n",
                        " |          Unicode ordinals, strings, or None.\n",
                        " |      \n",
                        " |      The table must implement lookup/indexing via __getitem__, for instance a\n",
                        " |      dictionary or list.  If this operation raises LookupError, the character is\n",
                        " |      left untouched.  Characters mapped to None are deleted.\n",
                        " |  \n",
                        " |  upper(self, /)\n",
                        " |      Return a copy of the string converted to uppercase.\n",
                        " |  \n",
                        " |  zfill(self, width, /)\n",
                        " |      Pad a numeric string with zeros on the left, to fill a field of the given width.\n",
                        " |      \n",
                        " |      The string is never truncated.\n",
                        " |  \n",
                        " |  ----------------------------------------------------------------------\n",
                        " |  Static methods defined here:\n",
                        " |  \n",
                        " |  __new__(*args, **kwargs) from builtins.type\n",
                        " |      Create and return a new object.  See help(type) for accurate signature.\n",
                        " |  \n",
                        " |  maketrans(...)\n",
                        " |      Return a translation table usable for str.translate().\n",
                        " |      \n",
                        " |      If there is only one argument, it must be a dictionary mapping Unicode\n",
                        " |      ordinals (integers) or characters to Unicode ordinals, strings or None.\n",
                        " |      Character keys will be then converted to ordinals.\n",
                        " |      If there are two arguments, they must be strings of equal length, and\n",
                        " |      in the resulting dictionary, each character in x will be mapped to the\n",
                        " |      character at the same position in y. If there is a third argument, it\n",
                        " |      must be a string, whose characters will be mapped to None in the result.\n",
                        "\n"
                    ]
                }
            ],
            "metadata": {}
        },
        {
            "cell_type": "code",
            "execution_count": null,
            "source": [],
            "outputs": [],
            "metadata": {}
        },
        {
            "cell_type": "code",
            "execution_count": null,
            "source": [],
            "outputs": [],
            "metadata": {}
        },
        {
            "cell_type": "code",
            "execution_count": 32,
            "source": [
                "deli = '_*_'\n",
                "mylist = ['B',\"R\",'C','I']\n",
                "print(deli.join(mylist))"
            ],
            "outputs": [
                {
                    "output_type": "stream",
                    "name": "stdout",
                    "text": [
                        "B_*_R_*_C_*_I\n"
                    ]
                }
            ],
            "metadata": {}
        },
        {
            "cell_type": "code",
            "execution_count": null,
            "source": [],
            "outputs": [],
            "metadata": {}
        },
        {
            "cell_type": "code",
            "execution_count": 33,
            "source": [
                "def say_hello():\n",
                "    print('hello world')"
            ],
            "outputs": [],
            "metadata": {}
        },
        {
            "cell_type": "code",
            "execution_count": 35,
            "source": [
                "say_hello()"
            ],
            "outputs": [
                {
                    "output_type": "stream",
                    "name": "stdout",
                    "text": [
                        "hello world\n"
                    ]
                }
            ],
            "metadata": {}
        },
        {
            "cell_type": "code",
            "execution_count": 36,
            "source": [
                "say_hello()"
            ],
            "outputs": [
                {
                    "output_type": "stream",
                    "name": "stdout",
                    "text": [
                        "hello world\n"
                    ]
                }
            ],
            "metadata": {}
        },
        {
            "cell_type": "code",
            "execution_count": null,
            "source": [],
            "outputs": [],
            "metadata": {}
        },
        {
            "cell_type": "code",
            "execution_count": null,
            "source": [],
            "outputs": [],
            "metadata": {}
        },
        {
            "cell_type": "code",
            "execution_count": 1,
            "source": [
                "import sys\n",
                "\n",
                "print('The cmd args are:')\n",
                "for i in sys.argv:\n",
                "    print(i)\n",
                "\n",
                "print('\\n\\nThe PYTHONPATH is',sys.path,'\\n')"
            ],
            "outputs": [
                {
                    "output_type": "stream",
                    "name": "stdout",
                    "text": [
                        "The cmd args are:\n",
                        "/home/micuks/.local/lib/python3.8/site-packages/ipykernel_launcher.py\n",
                        "--ip=127.0.0.1\n",
                        "--stdin=9003\n",
                        "--control=9001\n",
                        "--hb=9000\n",
                        "--Session.signature_scheme=\"hmac-sha256\"\n",
                        "--Session.key=b\"ea7a6d1f-57a1-4c9d-91d8-b8ae5d623b56\"\n",
                        "--shell=9002\n",
                        "--transport=\"tcp\"\n",
                        "--iopub=9004\n",
                        "--f=/tmp/tmp-1849ombBxBf0Tlh.json\n",
                        "\n",
                        "\n",
                        "The PYTHONPATH is ['/home/micuks/Code/AutoPilot/a_byte_of_python/a-byte-of-python-bnu', '/home/micuks/.vscode-server/extensions/ms-toolsai.jupyter-2021.8.1054968649/pythonFiles', '/home/micuks/.vscode-server/extensions/ms-toolsai.jupyter-2021.8.1054968649/pythonFiles/lib/python', '/usr/lib/python38.zip', '/usr/lib/python3.8', '/usr/lib/python3.8/lib-dynload', '', '/home/micuks/.local/lib/python3.8/site-packages', '/usr/local/lib/python3.8/dist-packages', '/usr/lib/python3/dist-packages', '/home/micuks/.local/lib/python3.8/site-packages/IPython/extensions', '/home/micuks/.ipython'] \n",
                        "\n"
                    ]
                }
            ],
            "metadata": {}
        },
        {
            "cell_type": "code",
            "execution_count": null,
            "source": [],
            "outputs": [],
            "metadata": {}
        },
        {
            "cell_type": "code",
            "execution_count": 2,
            "source": [
                "dir(sys)"
            ],
            "outputs": [
                {
                    "output_type": "execute_result",
                    "data": {
                        "text/plain": [
                            "['__breakpointhook__',\n",
                            " '__displayhook__',\n",
                            " '__doc__',\n",
                            " '__excepthook__',\n",
                            " '__interactivehook__',\n",
                            " '__loader__',\n",
                            " '__name__',\n",
                            " '__package__',\n",
                            " '__spec__',\n",
                            " '__stderr__',\n",
                            " '__stdin__',\n",
                            " '__stdout__',\n",
                            " '__unraisablehook__',\n",
                            " '_base_executable',\n",
                            " '_clear_type_cache',\n",
                            " '_current_frames',\n",
                            " '_debugmallocstats',\n",
                            " '_framework',\n",
                            " '_getframe',\n",
                            " '_git',\n",
                            " '_home',\n",
                            " '_xoptions',\n",
                            " 'abiflags',\n",
                            " 'addaudithook',\n",
                            " 'api_version',\n",
                            " 'argv',\n",
                            " 'audit',\n",
                            " 'base_exec_prefix',\n",
                            " 'base_prefix',\n",
                            " 'breakpointhook',\n",
                            " 'builtin_module_names',\n",
                            " 'byteorder',\n",
                            " 'call_tracing',\n",
                            " 'callstats',\n",
                            " 'copyright',\n",
                            " 'displayhook',\n",
                            " 'dont_write_bytecode',\n",
                            " 'exc_info',\n",
                            " 'excepthook',\n",
                            " 'exec_prefix',\n",
                            " 'executable',\n",
                            " 'exit',\n",
                            " 'flags',\n",
                            " 'float_info',\n",
                            " 'float_repr_style',\n",
                            " 'get_asyncgen_hooks',\n",
                            " 'get_coroutine_origin_tracking_depth',\n",
                            " 'getallocatedblocks',\n",
                            " 'getcheckinterval',\n",
                            " 'getdefaultencoding',\n",
                            " 'getdlopenflags',\n",
                            " 'getfilesystemencodeerrors',\n",
                            " 'getfilesystemencoding',\n",
                            " 'getprofile',\n",
                            " 'getrecursionlimit',\n",
                            " 'getrefcount',\n",
                            " 'getsizeof',\n",
                            " 'getswitchinterval',\n",
                            " 'gettrace',\n",
                            " 'hash_info',\n",
                            " 'hexversion',\n",
                            " 'implementation',\n",
                            " 'int_info',\n",
                            " 'intern',\n",
                            " 'is_finalizing',\n",
                            " 'last_traceback',\n",
                            " 'last_type',\n",
                            " 'last_value',\n",
                            " 'maxsize',\n",
                            " 'maxunicode',\n",
                            " 'meta_path',\n",
                            " 'modules',\n",
                            " 'path',\n",
                            " 'path_hooks',\n",
                            " 'path_importer_cache',\n",
                            " 'platform',\n",
                            " 'prefix',\n",
                            " 'ps1',\n",
                            " 'ps2',\n",
                            " 'ps3',\n",
                            " 'pycache_prefix',\n",
                            " 'set_asyncgen_hooks',\n",
                            " 'set_coroutine_origin_tracking_depth',\n",
                            " 'setcheckinterval',\n",
                            " 'setdlopenflags',\n",
                            " 'setprofile',\n",
                            " 'setrecursionlimit',\n",
                            " 'setswitchinterval',\n",
                            " 'settrace',\n",
                            " 'stderr',\n",
                            " 'stdin',\n",
                            " 'stdout',\n",
                            " 'thread_info',\n",
                            " 'unraisablehook',\n",
                            " 'version',\n",
                            " 'version_info',\n",
                            " 'warnoptions']"
                        ]
                    },
                    "metadata": {},
                    "execution_count": 2
                }
            ],
            "metadata": {}
        },
        {
            "cell_type": "code",
            "execution_count": null,
            "source": [],
            "outputs": [],
            "metadata": {}
        },
        {
            "cell_type": "code",
            "execution_count": null,
            "source": [],
            "outputs": [],
            "metadata": {}
        },
        {
            "cell_type": "code",
            "execution_count": 3,
            "source": [
                "dir()"
            ],
            "outputs": [
                {
                    "output_type": "execute_result",
                    "data": {
                        "text/plain": [
                            "['In',\n",
                            " 'Out',\n",
                            " '_',\n",
                            " '_2',\n",
                            " '__',\n",
                            " '___',\n",
                            " '__builtin__',\n",
                            " '__builtins__',\n",
                            " '__doc__',\n",
                            " '__loader__',\n",
                            " '__name__',\n",
                            " '__package__',\n",
                            " '__spec__',\n",
                            " '_dh',\n",
                            " '_i',\n",
                            " '_i1',\n",
                            " '_i2',\n",
                            " '_i3',\n",
                            " '_ih',\n",
                            " '_ii',\n",
                            " '_iii',\n",
                            " '_oh',\n",
                            " 'exit',\n",
                            " 'get_ipython',\n",
                            " 'i',\n",
                            " 'os',\n",
                            " 'quit',\n",
                            " 'sys']"
                        ]
                    },
                    "metadata": {},
                    "execution_count": 3
                }
            ],
            "metadata": {}
        },
        {
            "cell_type": "code",
            "execution_count": 4,
            "source": [
                "version"
            ],
            "outputs": [
                {
                    "output_type": "error",
                    "ename": "NameError",
                    "evalue": "name 'version' is not defined",
                    "traceback": [
                        "\u001b[0;31m---------------------------------------------------------------------------\u001b[0m",
                        "\u001b[0;31mNameError\u001b[0m                                 Traceback (most recent call last)",
                        "\u001b[0;32m/tmp/ipykernel_337/1879474542.py\u001b[0m in \u001b[0;36m<module>\u001b[0;34m\u001b[0m\n\u001b[0;32m----> 1\u001b[0;31m \u001b[0mversion\u001b[0m\u001b[0;34m\u001b[0m\u001b[0;34m\u001b[0m\u001b[0m\n\u001b[0m",
                        "\u001b[0;31mNameError\u001b[0m: name 'version' is not defined"
                    ]
                }
            ],
            "metadata": {}
        },
        {
            "cell_type": "code",
            "execution_count": null,
            "source": [],
            "outputs": [],
            "metadata": {}
        },
        {
            "cell_type": "code",
            "execution_count": 6,
            "source": [
                "del sys"
            ],
            "outputs": [
                {
                    "output_type": "error",
                    "ename": "NameError",
                    "evalue": "name 'sys' is not defined",
                    "traceback": [
                        "\u001b[0;31m---------------------------------------------------------------------------\u001b[0m",
                        "\u001b[0;31mNameError\u001b[0m                                 Traceback (most recent call last)",
                        "\u001b[0;32m/tmp/ipykernel_337/3409907870.py\u001b[0m in \u001b[0;36m<module>\u001b[0;34m\u001b[0m\n\u001b[0;32m----> 1\u001b[0;31m \u001b[0;32mdel\u001b[0m \u001b[0msys\u001b[0m\u001b[0;34m\u001b[0m\u001b[0;34m\u001b[0m\u001b[0m\n\u001b[0m",
                        "\u001b[0;31mNameError\u001b[0m: name 'sys' is not defined"
                    ]
                }
            ],
            "metadata": {}
        },
        {
            "cell_type": "code",
            "execution_count": 7,
            "source": [
                "dir()"
            ],
            "outputs": [
                {
                    "output_type": "execute_result",
                    "data": {
                        "text/plain": [
                            "['In',\n",
                            " 'Out',\n",
                            " '_',\n",
                            " '_2',\n",
                            " '_3',\n",
                            " '__',\n",
                            " '___',\n",
                            " '__builtin__',\n",
                            " '__builtins__',\n",
                            " '__doc__',\n",
                            " '__loader__',\n",
                            " '__name__',\n",
                            " '__package__',\n",
                            " '__spec__',\n",
                            " '_dh',\n",
                            " '_i',\n",
                            " '_i1',\n",
                            " '_i2',\n",
                            " '_i3',\n",
                            " '_i4',\n",
                            " '_i5',\n",
                            " '_i6',\n",
                            " '_i7',\n",
                            " '_ih',\n",
                            " '_ii',\n",
                            " '_iii',\n",
                            " '_oh',\n",
                            " 'exit',\n",
                            " 'get_ipython',\n",
                            " 'i',\n",
                            " 'os',\n",
                            " 'quit']"
                        ]
                    },
                    "metadata": {},
                    "execution_count": 7
                }
            ],
            "metadata": {}
        },
        {
            "cell_type": "code",
            "execution_count": null,
            "source": [],
            "outputs": [],
            "metadata": {}
        },
        {
            "cell_type": "code",
            "execution_count": null,
            "source": [],
            "outputs": [],
            "metadata": {}
        },
        {
            "cell_type": "code",
            "execution_count": 8,
            "source": [
                "rjust()"
            ],
            "outputs": [
                {
                    "output_type": "error",
                    "ename": "NameError",
                    "evalue": "name 'rjust' is not defined",
                    "traceback": [
                        "\u001b[0;31m---------------------------------------------------------------------------\u001b[0m",
                        "\u001b[0;31mNameError\u001b[0m                                 Traceback (most recent call last)",
                        "\u001b[0;32m/tmp/ipykernel_337/30344403.py\u001b[0m in \u001b[0;36m<module>\u001b[0;34m\u001b[0m\n\u001b[0;32m----> 1\u001b[0;31m \u001b[0mrjust\u001b[0m\u001b[0;34m(\u001b[0m\u001b[0;34m)\u001b[0m\u001b[0;34m\u001b[0m\u001b[0;34m\u001b[0m\u001b[0m\n\u001b[0m",
                        "\u001b[0;31mNameError\u001b[0m: name 'rjust' is not defined"
                    ]
                }
            ],
            "metadata": {}
        },
        {
            "cell_type": "code",
            "execution_count": 9,
            "source": [
                "help(str.rjust)"
            ],
            "outputs": [
                {
                    "output_type": "stream",
                    "name": "stdout",
                    "text": [
                        "Help on method_descriptor:\n",
                        "\n",
                        "rjust(self, width, fillchar=' ', /)\n",
                        "    Return a right-justified string of length width.\n",
                        "    \n",
                        "    Padding is done using the specified fill character (default is a space).\n",
                        "\n"
                    ]
                }
            ],
            "metadata": {}
        },
        {
            "cell_type": "code",
            "execution_count": null,
            "source": [],
            "outputs": [],
            "metadata": {}
        }
    ],
    "metadata": {
        "orig_nbformat": 4,
        "language_info": {
            "name": "python",
            "version": "3.8.10",
            "mimetype": "text/x-python",
            "codemirror_mode": {
                "name": "ipython",
                "version": 3
            },
            "pygments_lexer": "ipython3",
            "nbconvert_exporter": "python",
            "file_extension": ".py"
        },
        "kernelspec": {
            "name": "python3",
            "display_name": "Python 3.8.10 64-bit"
        },
        "interpreter": {
            "hash": "31f2aee4e71d21fbe5cf8b01ff0e069b9275f58929596ceb00d14d90e3e16cd6"
        }
    },
    "nbformat": 4,
    "nbformat_minor": 2
}